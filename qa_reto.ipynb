{
  "cells": [
    {
      "attachments": {},
      "cell_type": "markdown",
      "metadata": {
        "id": "DBfzpVWd7GQD"
      },
      "source": [
        "# Quality Assurance for the ETL process with the houses data"
      ]
    },
    {
      "attachments": {},
      "cell_type": "markdown",
      "metadata": {
        "id": "eQfKSfVdPSQN"
      },
      "source": [
        "University: ICESI\n",
        "\n",
        "Student: Nicolas Esteban Colmenares Ruiz\n",
        "\n",
        "Subject: Infraestructura y arquitectura de TI\n",
        "\n",
        "Professor: Monica Rojas y Angela Villota"
      ]
    },
    {
      "attachments": {},
      "cell_type": "markdown",
      "metadata": {
        "id": "Q46Izbd77GQL"
      },
      "source": [
        "## Imports required for validation"
      ]
    },
    {
      "cell_type": "code",
      "execution_count": 89,
      "metadata": {
        "id": "i-WLbX8S7GQN"
      },
      "outputs": [],
      "source": [
        "import psycopg2\n",
        "import pandas as pd\n",
        "import pandas.io.sql as sqlio\n",
        "import numpy as np"
      ]
    },
    {
      "attachments": {},
      "cell_type": "markdown",
      "metadata": {
        "id": "CAz3gYKK7GQP"
      },
      "source": [
        "## Load data from ElephantSQL"
      ]
    },
    {
      "cell_type": "code",
      "execution_count": 130,
      "metadata": {
        "colab": {
          "base_uri": "https://localhost:8080/"
        },
        "id": "mIK2Cogv7GQQ",
        "outputId": "674c5df0-aef3-4971-883e-1b1ec7d4caf6"
      },
      "outputs": [
        {
          "name": "stderr",
          "output_type": "stream",
          "text": [
            "<ipython-input-130-8ccbae99b468>:9: UserWarning: pandas only supports SQLAlchemy connectable (engine/connection) or database string URI or sqlite3 DBAPI2 connection. Other DBAPI2 objects are not tested. Please consider using SQLAlchemy.\n",
            "  amesdbtemp = sqlio.read_sql_query(sql, conn)\n",
            "<ipython-input-130-8ccbae99b468>:12: UserWarning: pandas only supports SQLAlchemy connectable (engine/connection) or database string URI or sqlite3 DBAPI2 connection. Other DBAPI2 objects are not tested. Please consider using SQLAlchemy.\n",
            "  floordetails = sqlio.read_sql_query(sql, conn)\n",
            "<ipython-input-130-8ccbae99b468>:15: UserWarning: pandas only supports SQLAlchemy connectable (engine/connection) or database string URI or sqlite3 DBAPI2 connection. Other DBAPI2 objects are not tested. Please consider using SQLAlchemy.\n",
            "  saleproperty = sqlio.read_sql_query(sql, conn)\n"
          ]
        }
      ],
      "source": [
        "\n",
        "# Connect to the database\n",
        "conn = psycopg2.connect(\n",
        "        host=\"isilo.db.elephantsql.com\",\n",
        "        database=\"krenswwj\",\n",
        "        port=\"5432\",\n",
        "        user=\"krenswwj\",\n",
        "        password=\"VNjHXDgtnsdqvbJovcrPhfvcxAd0rqkr\")\n",
        "sql = \"SELECT * FROM amesdbtemp\"\n",
        "amesdbtemp = sqlio.read_sql_query(sql, conn)\n",
        "# select table floordetails\n",
        "sql = \"SELECT * FROM floordetail\"\n",
        "floordetails = sqlio.read_sql_query(sql, conn)\n",
        "# select table saleProperty \n",
        "sql = \"SELECT * FROM saleproperty\"\n",
        "saleproperty = sqlio.read_sql_query(sql, conn)\n",
        "conn.close()"
      ]
    },
    {
      "attachments": {},
      "cell_type": "markdown",
      "metadata": {
        "id": "iFPDiXbO7GQQ"
      },
      "source": [
        "### Check the columns of both tables"
      ]
    },
    {
      "cell_type": "code",
      "execution_count": 3,
      "metadata": {
        "colab": {
          "base_uri": "https://localhost:8080/"
        },
        "id": "5VBaMyET7GQR",
        "outputId": "440b1aa3-3cf3-426c-df34-2138a64a5942"
      },
      "outputs": [
        {
          "name": "stdout",
          "output_type": "stream",
          "text": [
            "amesdbtemp columns Index(['Exter Cond', 'Exter Qual', 'Heating QC', 'Kitchen Qual', 'MS Zoning',\n",
            "       'pid', 'Roof Style', 'Roof Matl', 'Exterior 1st', 'Exterior 2nd',\n",
            "       'Mas Vnr Type', 'Mas Vnr Area', 'foundation', 'heating', 'Central Air',\n",
            "       'electrical', '1st Flr SF', '2nd Flr SF', 'Low Qual Fin SF',\n",
            "       'Kitchen AbvGr', 'TotRms AbvGrd', 'functional', 'fireplaces',\n",
            "       'Fireplace Qu', 'Paved Drive', 'Wood Deck SF', 'Open Porch SF',\n",
            "       'Enclosed Porch', '3Ssn Porch', 'Screen Porch', 'fence', 'MS SubClass'],\n",
            "      dtype='object')\n",
            "floor detail columns Index(['pid', 'Floor', 'bedrooms', 'Full Bath', 'Half Bath'], dtype='object')\n"
          ]
        }
      ],
      "source": [
        "# print columns of the table amesdbtemp\n",
        "print(\"amesdbtemp columns\",data.columns)\n",
        "# print columns of the table floordetail\n",
        "print(\"floor detail columns\", floordetails.columns)"
      ]
    },
    {
      "attachments": {},
      "cell_type": "markdown",
      "metadata": {
        "id": "I0vcOcwX7GQR"
      },
      "source": [
        "## Load data from csv output of the ETL process"
      ]
    },
    {
      "cell_type": "code",
      "execution_count": 4,
      "metadata": {
        "id": "1xnyd6GF7GQS"
      },
      "outputs": [],
      "source": [
        "# Load RetoOutput.csv\n",
        "df = pd.read_csv('RetoOutput.csv', sep=';')"
      ]
    },
    {
      "attachments": {},
      "cell_type": "markdown",
      "metadata": {
        "id": "sBBlGlaG7GQS"
      },
      "source": [
        "## Validate quality requirements of resulting data"
      ]
    },
    {
      "attachments": {},
      "cell_type": "markdown",
      "metadata": {
        "id": "WguZ6vRE7GQT"
      },
      "source": [
        "### check nulls"
      ]
    },
    {
      "cell_type": "code",
      "execution_count": 5,
      "metadata": {
        "colab": {
          "base_uri": "https://localhost:8080/"
        },
        "id": "ZM83gvJm7GQT",
        "outputId": "4f2c199c-2104-496e-841d-9f0373fe185a"
      },
      "outputs": [
        {
          "name": "stdout",
          "output_type": "stream",
          "text": [
            "NaN values in df: 8201\n",
            "cero values in df: 35498\n"
          ]
        }
      ],
      "source": [
        "# print amount of NaN values in df\n",
        "print(\"NaN values in df:\", df.isnull().sum().sum())\n",
        "\n",
        "#print amount of 0 values in df\n",
        "print(\"cero values in df:\", (df == 0).sum().sum())"
      ]
    },
    {
      "attachments": {},
      "cell_type": "markdown",
      "metadata": {},
      "source": [
        "Those correspond to the NA and 0 replaced values during the transformation of data."
      ]
    },
    {
      "attachments": {},
      "cell_type": "markdown",
      "metadata": {
        "id": "4FlbsB-_Ls4o"
      },
      "source": [
        "### check if there is empty values wich means wrong process during ETL"
      ]
    },
    {
      "cell_type": "code",
      "execution_count": 129,
      "metadata": {
        "colab": {
          "base_uri": "https://localhost:8080/"
        },
        "id": "NUUyJETFLcVz",
        "outputId": "90333758-6dea-4e8b-9cd6-80dd8a6489e4"
      },
      "outputs": [
        {
          "name": "stdout",
          "output_type": "stream",
          "text": [
            "0\n"
          ]
        }
      ],
      "source": [
        "print((df == \"\").sum().sum())"
      ]
    },
    {
      "attachments": {},
      "cell_type": "markdown",
      "metadata": {},
      "source": [
        "There are no empty values, which are the result in the output when there is a null value to be load in the end of the ETL process. Therefore, there is no remaining nulls values in the output file."
      ]
    },
    {
      "attachments": {},
      "cell_type": "markdown",
      "metadata": {
        "id": "oVciDQmj7GQU"
      },
      "source": [
        "## Compare postgres data with csv"
      ]
    },
    {
      "attachments": {},
      "cell_type": "markdown",
      "metadata": {
        "id": "u9u0td_P7GQU"
      },
      "source": [
        "### Final number of rows must be equals to the rows in database"
      ]
    },
    {
      "cell_type": "code",
      "execution_count": 6,
      "metadata": {
        "colab": {
          "base_uri": "https://localhost:8080/"
        },
        "id": "M1ssGBY37GQU",
        "outputId": "b9ed7f92-64b8-423f-c0a1-8ad37674f8fd"
      },
      "outputs": [
        {
          "name": "stdout",
          "output_type": "stream",
          "text": [
            "Cantidad de filas en el final 2930\n",
            "Cantidad de filas en la tabla 2930\n"
          ]
        }
      ],
      "source": [
        "# print rows of RetoOutput.csv and amesdbtemp table\n",
        "print(\"Cantidad de filas en el final\",df.shape[0])\n",
        "print(\"Cantidad de filas en la tabla\",data.shape[0])"
      ]
    },
    {
      "attachments": {},
      "cell_type": "markdown",
      "metadata": {
        "id": "y4LcD5ra7GQU"
      },
      "source": [
        "### Validate fullbath, halfbath and bedrooms operation is correct"
      ]
    },
    {
      "cell_type": "code",
      "execution_count": 7,
      "metadata": {
        "colab": {
          "base_uri": "https://localhost:8080/"
        },
        "id": "9MGPNQXs7GQV",
        "outputId": "bc6f32e7-454a-4f74-f573-6b273bd7c6c2"
      },
      "outputs": [
        {
          "name": "stdout",
          "output_type": "stream",
          "text": [
            "             pid  bedrooms  Full Bath  Half Bath\n",
            "0      526301100         3          1          0\n",
            "1      526302030         2          2          0\n",
            "2      526302040         2          1          0\n",
            "3      526302110         2          1          0\n",
            "4      526302120         3          1          1\n",
            "...          ...       ...        ...        ...\n",
            "2925   924100070         2          1          0\n",
            "2926   924151040         3          2          1\n",
            "2927   924151050         3          2          1\n",
            "2928   924152030         3          2          1\n",
            "2929  1007100110         4          2          0\n",
            "\n",
            "[2930 rows x 4 columns]\n"
          ]
        }
      ],
      "source": [
        "# get floordetails table and group by pid\n",
        "floordetails_group = floordetails.groupby('pid').agg({\n",
        "    'bedrooms': 'sum',\n",
        "    'Full Bath': 'sum',\n",
        "    'Half Bath': 'sum',\n",
        "    }).reset_index()\n",
        "# sort by pid\n",
        "floordetails_group = floordetails_group.sort_values(by=['pid'])\n",
        "print(floordetails_group)"
      ]
    },
    {
      "cell_type": "code",
      "execution_count": 11,
      "metadata": {
        "colab": {
          "base_uri": "https://localhost:8080/"
        },
        "id": "N89r-8so7GQV",
        "outputId": "27335162-6641-45ce-b726-d75c5bd4460d"
      },
      "outputs": [
        {
          "name": "stdout",
          "output_type": "stream",
          "text": [
            "             PID  Bedroom  FullBath  HalfBath\n",
            "0      526301100      3.0       1.0       0.0\n",
            "1      526302030      2.0       2.0       0.0\n",
            "2      526302040      2.0       1.0       0.0\n",
            "3      526302110      2.0       1.0       0.0\n",
            "4      526302120      3.0       1.0       1.0\n",
            "...          ...      ...       ...       ...\n",
            "2925   924100070      2.0       1.0       0.0\n",
            "2926   924151040      3.0       2.0       1.0\n",
            "2927   924151050      3.0       2.0       1.0\n",
            "2928   924152030      3.0       2.0       1.0\n",
            "2929  1007100110      4.0       2.0       0.0\n",
            "\n",
            "[2930 rows x 4 columns]\n"
          ]
        }
      ],
      "source": [
        "# print the df halfBath, fullbath, bedroom\n",
        "#ordenar por pid\n",
        "df = df.sort_values(by=['PID'])\n",
        "df_floor_sum = df[['PID','Bedroom','FullBath','HalfBath']]\n",
        "print(df_floor_sum)"
      ]
    },
    {
      "cell_type": "code",
      "execution_count": 13,
      "metadata": {
        "colab": {
          "base_uri": "https://localhost:8080/",
          "height": 423
        },
        "id": "UQ7BfJo58TYd",
        "outputId": "98c8b21b-2487-46d1-b73e-bc4dcabe7d97"
      },
      "outputs": [
        {
          "data": {
            "text/html": [
              "\n",
              "  <div id=\"df-25d20c91-dab5-4a0c-a7e3-7d23307728e2\">\n",
              "    <div class=\"colab-df-container\">\n",
              "      <div>\n",
              "<style scoped>\n",
              "    .dataframe tbody tr th:only-of-type {\n",
              "        vertical-align: middle;\n",
              "    }\n",
              "\n",
              "    .dataframe tbody tr th {\n",
              "        vertical-align: top;\n",
              "    }\n",
              "\n",
              "    .dataframe thead th {\n",
              "        text-align: right;\n",
              "    }\n",
              "</style>\n",
              "<table border=\"1\" class=\"dataframe\">\n",
              "  <thead>\n",
              "    <tr style=\"text-align: right;\">\n",
              "      <th></th>\n",
              "      <th>PID</th>\n",
              "      <th>Bedroom</th>\n",
              "      <th>FullBath</th>\n",
              "      <th>HalfBath</th>\n",
              "    </tr>\n",
              "  </thead>\n",
              "  <tbody>\n",
              "    <tr>\n",
              "      <th>0</th>\n",
              "      <td>526301100</td>\n",
              "      <td>3</td>\n",
              "      <td>1</td>\n",
              "      <td>0</td>\n",
              "    </tr>\n",
              "    <tr>\n",
              "      <th>1</th>\n",
              "      <td>526302030</td>\n",
              "      <td>2</td>\n",
              "      <td>2</td>\n",
              "      <td>0</td>\n",
              "    </tr>\n",
              "    <tr>\n",
              "      <th>2</th>\n",
              "      <td>526302040</td>\n",
              "      <td>2</td>\n",
              "      <td>1</td>\n",
              "      <td>0</td>\n",
              "    </tr>\n",
              "    <tr>\n",
              "      <th>3</th>\n",
              "      <td>526302110</td>\n",
              "      <td>2</td>\n",
              "      <td>1</td>\n",
              "      <td>0</td>\n",
              "    </tr>\n",
              "    <tr>\n",
              "      <th>4</th>\n",
              "      <td>526302120</td>\n",
              "      <td>3</td>\n",
              "      <td>1</td>\n",
              "      <td>1</td>\n",
              "    </tr>\n",
              "    <tr>\n",
              "      <th>...</th>\n",
              "      <td>...</td>\n",
              "      <td>...</td>\n",
              "      <td>...</td>\n",
              "      <td>...</td>\n",
              "    </tr>\n",
              "    <tr>\n",
              "      <th>2925</th>\n",
              "      <td>924100070</td>\n",
              "      <td>2</td>\n",
              "      <td>1</td>\n",
              "      <td>0</td>\n",
              "    </tr>\n",
              "    <tr>\n",
              "      <th>2926</th>\n",
              "      <td>924151040</td>\n",
              "      <td>3</td>\n",
              "      <td>2</td>\n",
              "      <td>1</td>\n",
              "    </tr>\n",
              "    <tr>\n",
              "      <th>2927</th>\n",
              "      <td>924151050</td>\n",
              "      <td>3</td>\n",
              "      <td>2</td>\n",
              "      <td>1</td>\n",
              "    </tr>\n",
              "    <tr>\n",
              "      <th>2928</th>\n",
              "      <td>924152030</td>\n",
              "      <td>3</td>\n",
              "      <td>2</td>\n",
              "      <td>1</td>\n",
              "    </tr>\n",
              "    <tr>\n",
              "      <th>2929</th>\n",
              "      <td>1007100110</td>\n",
              "      <td>4</td>\n",
              "      <td>2</td>\n",
              "      <td>0</td>\n",
              "    </tr>\n",
              "  </tbody>\n",
              "</table>\n",
              "<p>2930 rows × 4 columns</p>\n",
              "</div>\n",
              "      <button class=\"colab-df-convert\" onclick=\"convertToInteractive('df-25d20c91-dab5-4a0c-a7e3-7d23307728e2')\"\n",
              "              title=\"Convert this dataframe to an interactive table.\"\n",
              "              style=\"display:none;\">\n",
              "        \n",
              "  <svg xmlns=\"http://www.w3.org/2000/svg\" height=\"24px\"viewBox=\"0 0 24 24\"\n",
              "       width=\"24px\">\n",
              "    <path d=\"M0 0h24v24H0V0z\" fill=\"none\"/>\n",
              "    <path d=\"M18.56 5.44l.94 2.06.94-2.06 2.06-.94-2.06-.94-.94-2.06-.94 2.06-2.06.94zm-11 1L8.5 8.5l.94-2.06 2.06-.94-2.06-.94L8.5 2.5l-.94 2.06-2.06.94zm10 10l.94 2.06.94-2.06 2.06-.94-2.06-.94-.94-2.06-.94 2.06-2.06.94z\"/><path d=\"M17.41 7.96l-1.37-1.37c-.4-.4-.92-.59-1.43-.59-.52 0-1.04.2-1.43.59L10.3 9.45l-7.72 7.72c-.78.78-.78 2.05 0 2.83L4 21.41c.39.39.9.59 1.41.59.51 0 1.02-.2 1.41-.59l7.78-7.78 2.81-2.81c.8-.78.8-2.07 0-2.86zM5.41 20L4 18.59l7.72-7.72 1.47 1.35L5.41 20z\"/>\n",
              "  </svg>\n",
              "      </button>\n",
              "      \n",
              "  <style>\n",
              "    .colab-df-container {\n",
              "      display:flex;\n",
              "      flex-wrap:wrap;\n",
              "      gap: 12px;\n",
              "    }\n",
              "\n",
              "    .colab-df-convert {\n",
              "      background-color: #E8F0FE;\n",
              "      border: none;\n",
              "      border-radius: 50%;\n",
              "      cursor: pointer;\n",
              "      display: none;\n",
              "      fill: #1967D2;\n",
              "      height: 32px;\n",
              "      padding: 0 0 0 0;\n",
              "      width: 32px;\n",
              "    }\n",
              "\n",
              "    .colab-df-convert:hover {\n",
              "      background-color: #E2EBFA;\n",
              "      box-shadow: 0px 1px 2px rgba(60, 64, 67, 0.3), 0px 1px 3px 1px rgba(60, 64, 67, 0.15);\n",
              "      fill: #174EA6;\n",
              "    }\n",
              "\n",
              "    [theme=dark] .colab-df-convert {\n",
              "      background-color: #3B4455;\n",
              "      fill: #D2E3FC;\n",
              "    }\n",
              "\n",
              "    [theme=dark] .colab-df-convert:hover {\n",
              "      background-color: #434B5C;\n",
              "      box-shadow: 0px 1px 3px 1px rgba(0, 0, 0, 0.15);\n",
              "      filter: drop-shadow(0px 1px 2px rgba(0, 0, 0, 0.3));\n",
              "      fill: #FFFFFF;\n",
              "    }\n",
              "  </style>\n",
              "\n",
              "      <script>\n",
              "        const buttonEl =\n",
              "          document.querySelector('#df-25d20c91-dab5-4a0c-a7e3-7d23307728e2 button.colab-df-convert');\n",
              "        buttonEl.style.display =\n",
              "          google.colab.kernel.accessAllowed ? 'block' : 'none';\n",
              "\n",
              "        async function convertToInteractive(key) {\n",
              "          const element = document.querySelector('#df-25d20c91-dab5-4a0c-a7e3-7d23307728e2');\n",
              "          const dataTable =\n",
              "            await google.colab.kernel.invokeFunction('convertToInteractive',\n",
              "                                                     [key], {});\n",
              "          if (!dataTable) return;\n",
              "\n",
              "          const docLinkHtml = 'Like what you see? Visit the ' +\n",
              "            '<a target=\"_blank\" href=https://colab.research.google.com/notebooks/data_table.ipynb>data table notebook</a>'\n",
              "            + ' to learn more about interactive tables.';\n",
              "          element.innerHTML = '';\n",
              "          dataTable['output_type'] = 'display_data';\n",
              "          await google.colab.output.renderOutput(dataTable, element);\n",
              "          const docLink = document.createElement('div');\n",
              "          docLink.innerHTML = docLinkHtml;\n",
              "          element.appendChild(docLink);\n",
              "        }\n",
              "      </script>\n",
              "    </div>\n",
              "  </div>\n",
              "  "
            ],
            "text/plain": [
              "             PID  Bedroom  FullBath  HalfBath\n",
              "0      526301100        3         1         0\n",
              "1      526302030        2         2         0\n",
              "2      526302040        2         1         0\n",
              "3      526302110        2         1         0\n",
              "4      526302120        3         1         1\n",
              "...          ...      ...       ...       ...\n",
              "2925   924100070        2         1         0\n",
              "2926   924151040        3         2         1\n",
              "2927   924151050        3         2         1\n",
              "2928   924152030        3         2         1\n",
              "2929  1007100110        4         2         0\n",
              "\n",
              "[2930 rows x 4 columns]"
            ]
          },
          "execution_count": 13,
          "metadata": {},
          "output_type": "execute_result"
        }
      ],
      "source": [
        "# convert df_floor_sum values to int\n",
        "df_floor_sum = df_floor_sum.astype(int)\n",
        "df_floor_sum"
      ]
    },
    {
      "cell_type": "code",
      "execution_count": 15,
      "metadata": {
        "colab": {
          "base_uri": "https://localhost:8080/"
        },
        "id": "K7gt-jCr8Snr",
        "outputId": "8c652726-8bd4-4402-ad16-be9defe419f0"
      },
      "outputs": [
        {
          "name": "stdout",
          "output_type": "stream",
          "text": [
            "Bedroom values are equal: True\n",
            "FullBath values are equal: True\n",
            "HalfBath values are equal: True\n"
          ]
        }
      ],
      "source": [
        "# check floordetails_group and df_floor_sum BedRoom, FullBath, HalfBath values are equal\n",
        "print(\"Bedroom values are equal:\", (floordetails_group['bedrooms'] == df_floor_sum['Bedroom']).all())\n",
        "print(\"FullBath values are equal:\", (floordetails_group['Full Bath'] == df_floor_sum['FullBath']).all())\n",
        "print(\"HalfBath values are equal:\", (floordetails_group['Half Bath'] == df_floor_sum['HalfBath']).all())\n"
      ]
    },
    {
      "attachments": {},
      "cell_type": "markdown",
      "metadata": {
        "id": "2Z5qyWm0LBDH"
      },
      "source": [
        "Bedroom, Fullbath and Halfbath are the expected"
      ]
    },
    {
      "attachments": {},
      "cell_type": "markdown",
      "metadata": {
        "id": "i4eudd4t9dke"
      },
      "source": [
        "### Validate Gr Liv Area is well calculated"
      ]
    },
    {
      "cell_type": "code",
      "execution_count": null,
      "metadata": {
        "id": "4P1F6LGxIrNW"
      },
      "outputs": [],
      "source": [
        "amesdbtemp['1st Flr SF'].astype(int) + amesdbtemp['2nd Flr SF'].astype(int)  + amesdbtemp['Low Qual Fin SF'].astype(int) "
      ]
    },
    {
      "cell_type": "code",
      "execution_count": 108,
      "metadata": {
        "colab": {
          "base_uri": "https://localhost:8080/"
        },
        "id": "O798tOlBJh5Q",
        "outputId": "cb345de3-932a-4e3f-b0aa-c3b72f5e61ef"
      },
      "outputs": [
        {
          "data": {
            "text/plain": [
              "1849    1656\n",
              "2061    1293\n",
              "317     1024\n",
              "2360     882\n",
              "1866    1797\n",
              "        ... \n",
              "2082    1389\n",
              "87      1803\n",
              "1729     996\n",
              "101     1152\n",
              "1537    1150\n",
              "Name: 1st Flr SF, Length: 2930, dtype: Int64"
            ]
          },
          "execution_count": 108,
          "metadata": {},
          "output_type": "execute_result"
        }
      ],
      "source": [
        "amesdbtemp['1st Flr SF']"
      ]
    },
    {
      "cell_type": "code",
      "execution_count": 123,
      "metadata": {
        "id": "OY3UgkOE9m8e"
      },
      "outputs": [],
      "source": [
        "# sort data by PID\n",
        "data = amesdbtemp.sort_values(by=['pid'])\n",
        "\n",
        "# create field Gr Liv Area from amesdbtemp table suming 1st Flr SF, 2nd Flr SF and Low Qual Fin SF\n",
        "data['Gr Liv Area'] =  data[['1st Flr SF','2nd Flr SF','Low Qual Fin SF']].sum(axis=1).astype(int)\n",
        "\n",
        "# reset indexes\n",
        "data = data.reset_index(drop=True)"
      ]
    },
    {
      "cell_type": "code",
      "execution_count": 66,
      "metadata": {
        "id": "0s4WmXU4_yiO"
      },
      "outputs": [],
      "source": [
        "# change df type grLivArea to int\n",
        "df['Gr Liv Area'] = df['Gr Liv Area'].astype(str).str.replace(',', '.').astype(float).astype(int)"
      ]
    },
    {
      "cell_type": "code",
      "execution_count": 126,
      "metadata": {
        "colab": {
          "base_uri": "https://localhost:8080/"
        },
        "id": "XMNJ9TDk-LNG",
        "outputId": "4f732a7c-511d-4bb8-de16-99d4395bf264"
      },
      "outputs": [
        {
          "name": "stdout",
          "output_type": "stream",
          "text": [
            "Gr Liv Area values are equal: True\n"
          ]
        }
      ],
      "source": [
        "# check Gr Liv Area values are equal to df GrLivArea\n",
        "print(\"Gr Liv Area values are equal:\", (data['Gr Liv Area'].equals(df['Gr Liv Area'])))"
      ]
    },
    {
      "attachments": {},
      "cell_type": "markdown",
      "metadata": {
        "id": "QptzBGjLLHlb"
      },
      "source": [
        "correct calculation of GR liv Area"
      ]
    },
    {
      "attachments": {},
      "cell_type": "markdown",
      "metadata": {
        "id": "Xx8DGrIbMgfX"
      },
      "source": [
        "## Validate Mo Sold and Yr Sold are well calculated from sale property table"
      ]
    },
    {
      "cell_type": "code",
      "execution_count": null,
      "metadata": {
        "id": "PjFVJyRDMnq7"
      },
      "outputs": [],
      "source": [
        "# sort sale property and create a date time index frame to get year, month and day of each date\n",
        "saleproperty = saleproperty.sort_values(by=['pid'])\n",
        "dates = pd.DatetimeIndex(saleproperty['Sale Date'])"
      ]
    },
    {
      "cell_type": "code",
      "execution_count": 141,
      "metadata": {
        "colab": {
          "base_uri": "https://localhost:8080/"
        },
        "id": "S-E0szTSOKhI",
        "outputId": "c0779091-e0db-4dad-bc78-b359780da3d3"
      },
      "outputs": [
        {
          "name": "stdout",
          "output_type": "stream",
          "text": [
            "Year values are equal: True\n",
            "Month values are equal: True\n"
          ]
        }
      ],
      "source": [
        "# check year and month from dates are equal to df YrSold and MoSold\n",
        "print(\"Year values are equal:\", (dates.year == df['Yr Sold']).all())\n",
        "print(\"Month values are equal:\", (dates.month == df['Mo Sold']).all())"
      ]
    },
    {
      "attachments": {},
      "cell_type": "markdown",
      "metadata": {
        "id": "xxQYU822PKs1"
      },
      "source": [
        "the year and month extracted in the ETL process are correct."
      ]
    }
  ],
  "metadata": {
    "colab": {
      "provenance": []
    },
    "kernelspec": {
      "display_name": "Python 3",
      "name": "python3"
    },
    "language_info": {
      "name": "python"
    },
    "orig_nbformat": 4
  },
  "nbformat": 4,
  "nbformat_minor": 0
}
